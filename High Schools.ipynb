{
 "cells": [
  {
   "cell_type": "markdown",
   "metadata": {},
   "source": [
    "# Analyzing NYC High School Data"
   ]
  },
  {
   "cell_type": "markdown",
   "metadata": {},
   "source": [
    "This project will be analyzing high schools in New York City. The key performance indicators(KPI's) are:\n",
    "\n",
    "* **SAT scores** by school - SAT scores for each high school in New York City\n",
    "School attendance - Attendance information for each school in New York City\n",
    "\n",
    "* **Class size** - Information on class size for each school\n",
    "\n",
    "* **AP test results** - Advanced Placement (AP) exam results for each high school (passing an optional AP exam in a particular subject can earn a student college credit in that subject)\n",
    "* **Graduation outcomes** - The percentage of students who graduated and other outcome information\n",
    "* **Demographics** - Demographic information for each school\n",
    "* **School survey** - Surveys of parents, teachers, and students at each school\n",
    "\n",
    "The main objective of this project is to see the correlation beween the demographics/school survey and the SAT scores/AP test results. \n",
    "\n",
    "Reading, cleaning, and combining the datasets will have to be done before analyzing and visualizing the data. "
   ]
  },
  {
   "cell_type": "markdown",
   "metadata": {},
   "source": [
    "## Read in the data"
   ]
  },
  {
   "cell_type": "code",
   "execution_count": 25,
   "metadata": {},
   "outputs": [],
   "source": [
    "import pandas as pd\n",
    "import numpy\n",
    "import re\n",
    "import matplotlib.pyplot as plt\n",
    "%matplotlib inline \n",
    "\n",
    "data_files = [\n",
    "    \"ap_2010.csv\",\n",
    "    \"class_size.csv\",\n",
    "    \"demographics.csv\",\n",
    "    \"graduation.csv\",\n",
    "    \"hs_directory.csv\",\n",
    "    \"sat_results.csv\"\n",
    "]\n",
    "\n",
    "data = {}\n",
    "\n",
    "for f in data_files:\n",
    "    d = pd.read_csv(\"schools/{0}\".format(f))\n",
    "    data[f.replace(\".csv\", \"\")] = d"
   ]
  },
  {
   "cell_type": "markdown",
   "metadata": {},
   "source": [
    "## Read in the surveys"
   ]
  },
  {
   "cell_type": "markdown",
   "metadata": {},
   "source": [
    "Now to read in all of the columns that will be worked with throughout this project. They are coming from different datasets so they have to be combined. "
   ]
  },
  {
   "cell_type": "code",
   "execution_count": 26,
   "metadata": {},
   "outputs": [],
   "source": [
    "#Reading in all_survey and d75_survey datasets. \n",
    "all_survey = pd.read_csv(\"schools/survey_all.txt\", delimiter=\"\\t\", encoding='windows-1252')\n",
    "d75_survey = pd.read_csv(\"schools/survey_d75.txt\", delimiter=\"\\t\", encoding='windows-1252')\n",
    "\n",
    "#combining datasets\n",
    "survey = pd.concat([all_survey, d75_survey], axis=0)\n",
    "survey[\"DBN\"] = survey[\"dbn\"]\n",
    "\n",
    "#The columns that will be worked with.\n",
    "survey_fields = [\n",
    "    \"DBN\", \n",
    "    \"rr_s\", \n",
    "    \"rr_t\", \n",
    "    \"rr_p\", \n",
    "    \"N_s\", \n",
    "    \"N_t\", \n",
    "    \"N_p\", \n",
    "    \"saf_p_11\", \n",
    "    \"com_p_11\", \n",
    "    \"eng_p_11\", \n",
    "    \"aca_p_11\", \n",
    "    \"saf_t_11\", \n",
    "    \"com_t_11\", \n",
    "    \"eng_t_11\", \n",
    "    \"aca_t_11\", \n",
    "    \"saf_s_11\", \n",
    "    \"com_s_11\", \n",
    "    \"eng_s_11\", \n",
    "    \"aca_s_11\", \n",
    "    \"saf_tot_11\", \n",
    "    \"com_tot_11\", \n",
    "    \"eng_tot_11\", \n",
    "    \"aca_tot_11\",\n",
    "]\n",
    "\n",
    "survey = survey.loc[:,survey_fields]\n",
    "data[\"survey\"] = survey"
   ]
  },
  {
   "cell_type": "code",
   "execution_count": 27,
   "metadata": {},
   "outputs": [
    {
     "data": {
      "text/html": [
       "<div>\n",
       "<style scoped>\n",
       "    .dataframe tbody tr th:only-of-type {\n",
       "        vertical-align: middle;\n",
       "    }\n",
       "\n",
       "    .dataframe tbody tr th {\n",
       "        vertical-align: top;\n",
       "    }\n",
       "\n",
       "    .dataframe thead th {\n",
       "        text-align: right;\n",
       "    }\n",
       "</style>\n",
       "<table border=\"1\" class=\"dataframe\">\n",
       "  <thead>\n",
       "    <tr style=\"text-align: right;\">\n",
       "      <th></th>\n",
       "      <th>DBN</th>\n",
       "      <th>rr_s</th>\n",
       "      <th>rr_t</th>\n",
       "      <th>rr_p</th>\n",
       "      <th>N_s</th>\n",
       "      <th>N_t</th>\n",
       "      <th>N_p</th>\n",
       "      <th>saf_p_11</th>\n",
       "      <th>com_p_11</th>\n",
       "      <th>eng_p_11</th>\n",
       "      <th>...</th>\n",
       "      <th>eng_t_11</th>\n",
       "      <th>aca_t_11</th>\n",
       "      <th>saf_s_11</th>\n",
       "      <th>com_s_11</th>\n",
       "      <th>eng_s_11</th>\n",
       "      <th>aca_s_11</th>\n",
       "      <th>saf_tot_11</th>\n",
       "      <th>com_tot_11</th>\n",
       "      <th>eng_tot_11</th>\n",
       "      <th>aca_tot_11</th>\n",
       "    </tr>\n",
       "  </thead>\n",
       "  <tbody>\n",
       "    <tr>\n",
       "      <th>0</th>\n",
       "      <td>01M015</td>\n",
       "      <td>NaN</td>\n",
       "      <td>88</td>\n",
       "      <td>60</td>\n",
       "      <td>NaN</td>\n",
       "      <td>22.0</td>\n",
       "      <td>90.0</td>\n",
       "      <td>8.5</td>\n",
       "      <td>7.6</td>\n",
       "      <td>7.5</td>\n",
       "      <td>...</td>\n",
       "      <td>7.6</td>\n",
       "      <td>7.9</td>\n",
       "      <td>NaN</td>\n",
       "      <td>NaN</td>\n",
       "      <td>NaN</td>\n",
       "      <td>NaN</td>\n",
       "      <td>8.0</td>\n",
       "      <td>7.7</td>\n",
       "      <td>7.5</td>\n",
       "      <td>7.9</td>\n",
       "    </tr>\n",
       "    <tr>\n",
       "      <th>1</th>\n",
       "      <td>01M019</td>\n",
       "      <td>NaN</td>\n",
       "      <td>100</td>\n",
       "      <td>60</td>\n",
       "      <td>NaN</td>\n",
       "      <td>34.0</td>\n",
       "      <td>161.0</td>\n",
       "      <td>8.4</td>\n",
       "      <td>7.6</td>\n",
       "      <td>7.6</td>\n",
       "      <td>...</td>\n",
       "      <td>8.9</td>\n",
       "      <td>9.1</td>\n",
       "      <td>NaN</td>\n",
       "      <td>NaN</td>\n",
       "      <td>NaN</td>\n",
       "      <td>NaN</td>\n",
       "      <td>8.5</td>\n",
       "      <td>8.1</td>\n",
       "      <td>8.2</td>\n",
       "      <td>8.4</td>\n",
       "    </tr>\n",
       "    <tr>\n",
       "      <th>2</th>\n",
       "      <td>01M020</td>\n",
       "      <td>NaN</td>\n",
       "      <td>88</td>\n",
       "      <td>73</td>\n",
       "      <td>NaN</td>\n",
       "      <td>42.0</td>\n",
       "      <td>367.0</td>\n",
       "      <td>8.9</td>\n",
       "      <td>8.3</td>\n",
       "      <td>8.3</td>\n",
       "      <td>...</td>\n",
       "      <td>6.8</td>\n",
       "      <td>7.5</td>\n",
       "      <td>NaN</td>\n",
       "      <td>NaN</td>\n",
       "      <td>NaN</td>\n",
       "      <td>NaN</td>\n",
       "      <td>8.2</td>\n",
       "      <td>7.3</td>\n",
       "      <td>7.5</td>\n",
       "      <td>8.0</td>\n",
       "    </tr>\n",
       "    <tr>\n",
       "      <th>3</th>\n",
       "      <td>01M034</td>\n",
       "      <td>89.0</td>\n",
       "      <td>73</td>\n",
       "      <td>50</td>\n",
       "      <td>145.0</td>\n",
       "      <td>29.0</td>\n",
       "      <td>151.0</td>\n",
       "      <td>8.8</td>\n",
       "      <td>8.2</td>\n",
       "      <td>8.0</td>\n",
       "      <td>...</td>\n",
       "      <td>6.8</td>\n",
       "      <td>7.8</td>\n",
       "      <td>6.2</td>\n",
       "      <td>5.9</td>\n",
       "      <td>6.5</td>\n",
       "      <td>7.4</td>\n",
       "      <td>7.3</td>\n",
       "      <td>6.7</td>\n",
       "      <td>7.1</td>\n",
       "      <td>7.9</td>\n",
       "    </tr>\n",
       "    <tr>\n",
       "      <th>4</th>\n",
       "      <td>01M063</td>\n",
       "      <td>NaN</td>\n",
       "      <td>100</td>\n",
       "      <td>60</td>\n",
       "      <td>NaN</td>\n",
       "      <td>23.0</td>\n",
       "      <td>90.0</td>\n",
       "      <td>8.7</td>\n",
       "      <td>7.9</td>\n",
       "      <td>8.1</td>\n",
       "      <td>...</td>\n",
       "      <td>7.8</td>\n",
       "      <td>8.1</td>\n",
       "      <td>NaN</td>\n",
       "      <td>NaN</td>\n",
       "      <td>NaN</td>\n",
       "      <td>NaN</td>\n",
       "      <td>8.5</td>\n",
       "      <td>7.6</td>\n",
       "      <td>7.9</td>\n",
       "      <td>8.0</td>\n",
       "    </tr>\n",
       "  </tbody>\n",
       "</table>\n",
       "<p>5 rows × 23 columns</p>\n",
       "</div>"
      ],
      "text/plain": [
       "      DBN  rr_s  rr_t  rr_p    N_s   N_t    N_p  saf_p_11  com_p_11  eng_p_11  \\\n",
       "0  01M015   NaN    88    60    NaN  22.0   90.0       8.5       7.6       7.5   \n",
       "1  01M019   NaN   100    60    NaN  34.0  161.0       8.4       7.6       7.6   \n",
       "2  01M020   NaN    88    73    NaN  42.0  367.0       8.9       8.3       8.3   \n",
       "3  01M034  89.0    73    50  145.0  29.0  151.0       8.8       8.2       8.0   \n",
       "4  01M063   NaN   100    60    NaN  23.0   90.0       8.7       7.9       8.1   \n",
       "\n",
       "   ...  eng_t_11  aca_t_11  saf_s_11  com_s_11  eng_s_11  aca_s_11  \\\n",
       "0  ...       7.6       7.9       NaN       NaN       NaN       NaN   \n",
       "1  ...       8.9       9.1       NaN       NaN       NaN       NaN   \n",
       "2  ...       6.8       7.5       NaN       NaN       NaN       NaN   \n",
       "3  ...       6.8       7.8       6.2       5.9       6.5       7.4   \n",
       "4  ...       7.8       8.1       NaN       NaN       NaN       NaN   \n",
       "\n",
       "   saf_tot_11  com_tot_11  eng_tot_11  aca_tot_11  \n",
       "0         8.0         7.7         7.5         7.9  \n",
       "1         8.5         8.1         8.2         8.4  \n",
       "2         8.2         7.3         7.5         8.0  \n",
       "3         7.3         6.7         7.1         7.9  \n",
       "4         8.5         7.6         7.9         8.0  \n",
       "\n",
       "[5 rows x 23 columns]"
      ]
     },
     "execution_count": 27,
     "metadata": {},
     "output_type": "execute_result"
    }
   ],
   "source": [
    "data['survey'].head()"
   ]
  },
  {
   "cell_type": "markdown",
   "metadata": {},
   "source": [
    "## Add DBN columns"
   ]
  },
  {
   "cell_type": "code",
   "execution_count": 28,
   "metadata": {},
   "outputs": [
    {
     "data": {
      "text/html": [
       "<div>\n",
       "<style scoped>\n",
       "    .dataframe tbody tr th:only-of-type {\n",
       "        vertical-align: middle;\n",
       "    }\n",
       "\n",
       "    .dataframe tbody tr th {\n",
       "        vertical-align: top;\n",
       "    }\n",
       "\n",
       "    .dataframe thead th {\n",
       "        text-align: right;\n",
       "    }\n",
       "</style>\n",
       "<table border=\"1\" class=\"dataframe\">\n",
       "  <thead>\n",
       "    <tr style=\"text-align: right;\">\n",
       "      <th></th>\n",
       "      <th>CSD</th>\n",
       "      <th>BOROUGH</th>\n",
       "      <th>SCHOOL CODE</th>\n",
       "      <th>SCHOOL NAME</th>\n",
       "      <th>GRADE</th>\n",
       "      <th>PROGRAM TYPE</th>\n",
       "      <th>CORE SUBJECT (MS CORE and 9-12 ONLY)</th>\n",
       "      <th>CORE COURSE (MS CORE and 9-12 ONLY)</th>\n",
       "      <th>SERVICE CATEGORY(K-9* ONLY)</th>\n",
       "      <th>NUMBER OF STUDENTS / SEATS FILLED</th>\n",
       "      <th>NUMBER OF SECTIONS</th>\n",
       "      <th>AVERAGE CLASS SIZE</th>\n",
       "      <th>SIZE OF SMALLEST CLASS</th>\n",
       "      <th>SIZE OF LARGEST CLASS</th>\n",
       "      <th>DATA SOURCE</th>\n",
       "      <th>SCHOOLWIDE PUPIL-TEACHER RATIO</th>\n",
       "    </tr>\n",
       "  </thead>\n",
       "  <tbody>\n",
       "    <tr>\n",
       "      <th>0</th>\n",
       "      <td>1</td>\n",
       "      <td>M</td>\n",
       "      <td>M015</td>\n",
       "      <td>P.S. 015 Roberto Clemente</td>\n",
       "      <td>0K</td>\n",
       "      <td>GEN ED</td>\n",
       "      <td>-</td>\n",
       "      <td>-</td>\n",
       "      <td>-</td>\n",
       "      <td>19.0</td>\n",
       "      <td>1.0</td>\n",
       "      <td>19.0</td>\n",
       "      <td>19.0</td>\n",
       "      <td>19.0</td>\n",
       "      <td>ATS</td>\n",
       "      <td>NaN</td>\n",
       "    </tr>\n",
       "    <tr>\n",
       "      <th>1</th>\n",
       "      <td>1</td>\n",
       "      <td>M</td>\n",
       "      <td>M015</td>\n",
       "      <td>P.S. 015 Roberto Clemente</td>\n",
       "      <td>0K</td>\n",
       "      <td>CTT</td>\n",
       "      <td>-</td>\n",
       "      <td>-</td>\n",
       "      <td>-</td>\n",
       "      <td>21.0</td>\n",
       "      <td>1.0</td>\n",
       "      <td>21.0</td>\n",
       "      <td>21.0</td>\n",
       "      <td>21.0</td>\n",
       "      <td>ATS</td>\n",
       "      <td>NaN</td>\n",
       "    </tr>\n",
       "    <tr>\n",
       "      <th>2</th>\n",
       "      <td>1</td>\n",
       "      <td>M</td>\n",
       "      <td>M015</td>\n",
       "      <td>P.S. 015 Roberto Clemente</td>\n",
       "      <td>01</td>\n",
       "      <td>GEN ED</td>\n",
       "      <td>-</td>\n",
       "      <td>-</td>\n",
       "      <td>-</td>\n",
       "      <td>17.0</td>\n",
       "      <td>1.0</td>\n",
       "      <td>17.0</td>\n",
       "      <td>17.0</td>\n",
       "      <td>17.0</td>\n",
       "      <td>ATS</td>\n",
       "      <td>NaN</td>\n",
       "    </tr>\n",
       "    <tr>\n",
       "      <th>3</th>\n",
       "      <td>1</td>\n",
       "      <td>M</td>\n",
       "      <td>M015</td>\n",
       "      <td>P.S. 015 Roberto Clemente</td>\n",
       "      <td>01</td>\n",
       "      <td>CTT</td>\n",
       "      <td>-</td>\n",
       "      <td>-</td>\n",
       "      <td>-</td>\n",
       "      <td>17.0</td>\n",
       "      <td>1.0</td>\n",
       "      <td>17.0</td>\n",
       "      <td>17.0</td>\n",
       "      <td>17.0</td>\n",
       "      <td>ATS</td>\n",
       "      <td>NaN</td>\n",
       "    </tr>\n",
       "    <tr>\n",
       "      <th>4</th>\n",
       "      <td>1</td>\n",
       "      <td>M</td>\n",
       "      <td>M015</td>\n",
       "      <td>P.S. 015 Roberto Clemente</td>\n",
       "      <td>02</td>\n",
       "      <td>GEN ED</td>\n",
       "      <td>-</td>\n",
       "      <td>-</td>\n",
       "      <td>-</td>\n",
       "      <td>15.0</td>\n",
       "      <td>1.0</td>\n",
       "      <td>15.0</td>\n",
       "      <td>15.0</td>\n",
       "      <td>15.0</td>\n",
       "      <td>ATS</td>\n",
       "      <td>NaN</td>\n",
       "    </tr>\n",
       "  </tbody>\n",
       "</table>\n",
       "</div>"
      ],
      "text/plain": [
       "   CSD BOROUGH SCHOOL CODE                SCHOOL NAME GRADE  PROGRAM TYPE  \\\n",
       "0    1       M        M015  P.S. 015 Roberto Clemente     0K       GEN ED   \n",
       "1    1       M        M015  P.S. 015 Roberto Clemente     0K          CTT   \n",
       "2    1       M        M015  P.S. 015 Roberto Clemente     01       GEN ED   \n",
       "3    1       M        M015  P.S. 015 Roberto Clemente     01          CTT   \n",
       "4    1       M        M015  P.S. 015 Roberto Clemente     02       GEN ED   \n",
       "\n",
       "  CORE SUBJECT (MS CORE and 9-12 ONLY) CORE COURSE (MS CORE and 9-12 ONLY)  \\\n",
       "0                                    -                                   -   \n",
       "1                                    -                                   -   \n",
       "2                                    -                                   -   \n",
       "3                                    -                                   -   \n",
       "4                                    -                                   -   \n",
       "\n",
       "  SERVICE CATEGORY(K-9* ONLY)  NUMBER OF STUDENTS / SEATS FILLED  \\\n",
       "0                           -                               19.0   \n",
       "1                           -                               21.0   \n",
       "2                           -                               17.0   \n",
       "3                           -                               17.0   \n",
       "4                           -                               15.0   \n",
       "\n",
       "   NUMBER OF SECTIONS  AVERAGE CLASS SIZE  SIZE OF SMALLEST CLASS  \\\n",
       "0                 1.0                19.0                    19.0   \n",
       "1                 1.0                21.0                    21.0   \n",
       "2                 1.0                17.0                    17.0   \n",
       "3                 1.0                17.0                    17.0   \n",
       "4                 1.0                15.0                    15.0   \n",
       "\n",
       "   SIZE OF LARGEST CLASS DATA SOURCE  SCHOOLWIDE PUPIL-TEACHER RATIO  \n",
       "0                   19.0         ATS                             NaN  \n",
       "1                   21.0         ATS                             NaN  \n",
       "2                   17.0         ATS                             NaN  \n",
       "3                   17.0         ATS                             NaN  \n",
       "4                   15.0         ATS                             NaN  "
      ]
     },
     "execution_count": 28,
     "metadata": {},
     "output_type": "execute_result"
    }
   ],
   "source": [
    "data['class_size'].head()"
   ]
  },
  {
   "cell_type": "markdown",
   "metadata": {},
   "source": [
    "###### Adding the district borough number(DBN) columns to the datasets.  \n",
    "If you look at the dataset above, you will see that the DBN is split up between different columns. The objective in the next cell is to condense the `CSD`, `BOROUGH`, AND `SCHOOL CODE` into one column called `DBN`. "
   ]
  },
  {
   "cell_type": "code",
   "execution_count": 29,
   "metadata": {},
   "outputs": [
    {
     "data": {
      "text/plain": [
       "0    01M015\n",
       "1    01M015\n",
       "2    01M015\n",
       "3    01M015\n",
       "4    01M015\n",
       "Name: DBN, dtype: object"
      ]
     },
     "execution_count": 29,
     "metadata": {},
     "output_type": "execute_result"
    }
   ],
   "source": [
    "data[\"hs_directory\"][\"DBN\"] = data[\"hs_directory\"][\"dbn\"]\n",
    "\n",
    "def pad_csd(num):\n",
    "    string_representation = str(num)\n",
    "    if len(string_representation) > 1:\n",
    "        return string_representation\n",
    "    else:\n",
    "        return \"0\" + string_representation\n",
    "    \n",
    "data[\"class_size\"][\"padded_csd\"] = data[\"class_size\"][\"CSD\"].apply(pad_csd)\n",
    "data[\"class_size\"][\"DBN\"] = data[\"class_size\"][\"padded_csd\"] + data[\"class_size\"][\"SCHOOL CODE\"]\n",
    "data['class_size']['DBN'].head()"
   ]
  },
  {
   "cell_type": "markdown",
   "metadata": {},
   "source": [
    "## Convert columns to numeric"
   ]
  },
  {
   "cell_type": "code",
   "execution_count": 30,
   "metadata": {},
   "outputs": [],
   "source": [
    "cols = ['SAT Math Avg. Score', 'SAT Critical Reading Avg. Score', 'SAT Writing Avg. Score']\n",
    "for c in cols:\n",
    "    data[\"sat_results\"][c] = pd.to_numeric(data[\"sat_results\"][c], errors=\"coerce\")\n",
    "\n",
    "data['sat_results']['sat_score'] = data['sat_results'][cols[0]] + data['sat_results'][cols[1]] + data['sat_results'][cols[2]]\n",
    "\n",
    "def find_lat(loc):\n",
    "    coords = re.findall(\"\\(.+, .+\\)\", loc)\n",
    "    lat = coords[0].split(\",\")[0].replace(\"(\", \"\")\n",
    "    return lat\n",
    "\n",
    "def find_lon(loc):\n",
    "    coords = re.findall(\"\\(.+, .+\\)\", loc)\n",
    "    lon = coords[0].split(\",\")[1].replace(\")\", \"\").strip()\n",
    "    return lon\n",
    "\n",
    "data[\"hs_directory\"][\"lat\"] = data[\"hs_directory\"][\"Location 1\"].apply(find_lat)\n",
    "data[\"hs_directory\"][\"lon\"] = data[\"hs_directory\"][\"Location 1\"].apply(find_lon)\n",
    "\n",
    "data[\"hs_directory\"][\"lat\"] = pd.to_numeric(data[\"hs_directory\"][\"lat\"], errors=\"coerce\")\n",
    "data[\"hs_directory\"][\"lon\"] = pd.to_numeric(data[\"hs_directory\"][\"lon\"], errors=\"coerce\")"
   ]
  },
  {
   "cell_type": "markdown",
   "metadata": {},
   "source": [
    "## Condense datasets"
   ]
  },
  {
   "cell_type": "code",
   "execution_count": 31,
   "metadata": {},
   "outputs": [],
   "source": [
    "class_size = data[\"class_size\"]\n",
    "\n",
    "# Filtering the data to high school students in Gen Ed.\n",
    "class_size = class_size[class_size[\"GRADE \"] == \"09-12\"]\n",
    "class_size = class_size[class_size[\"PROGRAM TYPE\"] == \"GEN ED\"]\n",
    "\n",
    "# Aggregating the average class size of each DBN\n",
    "class_size = class_size.groupby(\"DBN\").agg(numpy.mean)\n",
    "class_size.reset_index(inplace=True)\n",
    "data[\"class_size\"] = class_size\n",
    "\n",
    "# Getting the demographics of the data set for the 2011-2012 year. \n",
    "data[\"demographics\"] = data[\"demographics\"][data[\"demographics\"][\"schoolyear\"] == 20112012]\n",
    "\n",
    "# Filtering for the demographics of students in 2006. \n",
    "data[\"graduation\"] = data[\"graduation\"][data[\"graduation\"][\"Cohort\"] == \"2006\"]\n",
    "data[\"graduation\"] = data[\"graduation\"][data[\"graduation\"][\"Demographic\"] == \"Total Cohort\"]"
   ]
  },
  {
   "cell_type": "markdown",
   "metadata": {},
   "source": [
    "## Convert AP scores to numeric"
   ]
  },
  {
   "cell_type": "code",
   "execution_count": 32,
   "metadata": {},
   "outputs": [],
   "source": [
    "#Columns that will be converted to numeric\n",
    "cols = ['AP Test Takers ', 'Total Exams Taken', 'Number of Exams with scores 3 4 or 5']\n",
    "\n",
    "#for loop to change each column into numeric\n",
    "for col in cols:\n",
    "    data[\"ap_2010\"][col] = pd.to_numeric(data[\"ap_2010\"][col], errors=\"coerce\")"
   ]
  },
  {
   "cell_type": "markdown",
   "metadata": {},
   "source": [
    "## Combine the datasets"
   ]
  },
  {
   "cell_type": "code",
   "execution_count": 33,
   "metadata": {},
   "outputs": [],
   "source": [
    "combined = data[\"sat_results\"]\n",
    "\n",
    "combined = combined.merge(data[\"ap_2010\"], on=\"DBN\", how=\"left\")\n",
    "combined = combined.merge(data[\"graduation\"], on=\"DBN\", how=\"left\")\n",
    "\n",
    "to_merge = [\"class_size\", \"demographics\", \"survey\", \"hs_directory\"]\n",
    "\n",
    "for m in to_merge:\n",
    "    combined = combined.merge(data[m], on=\"DBN\", how=\"inner\")\n",
    "\n",
    "combined = combined.fillna(combined.mean())\n",
    "combined = combined.fillna(0)"
   ]
  },
  {
   "cell_type": "markdown",
   "metadata": {},
   "source": [
    "## Add a school district column for mapping"
   ]
  },
  {
   "cell_type": "code",
   "execution_count": 34,
   "metadata": {},
   "outputs": [],
   "source": [
    "def get_first_two_chars(dbn):\n",
    "    return dbn[0:2]\n",
    "\n",
    "combined[\"school_dist\"] = combined[\"DBN\"].apply(get_first_two_chars)"
   ]
  },
  {
   "cell_type": "markdown",
   "metadata": {},
   "source": [
    "## Find correlations"
   ]
  },
  {
   "cell_type": "code",
   "execution_count": 35,
   "metadata": {},
   "outputs": [
    {
     "name": "stdout",
     "output_type": "stream",
     "text": [
      "SAT Critical Reading Avg. Score    0.986820\n",
      "SAT Math Avg. Score                0.972643\n",
      "SAT Writing Avg. Score             0.987771\n",
      "sat_score                          1.000000\n",
      "AP Test Takers                     0.523140\n",
      "                                     ...   \n",
      "priority08                              NaN\n",
      "priority09                              NaN\n",
      "priority10                              NaN\n",
      "lat                               -0.121029\n",
      "lon                               -0.132222\n",
      "Name: sat_score, Length: 67, dtype: float64\n"
     ]
    }
   ],
   "source": [
    "correlations = combined.corr()\n",
    "correlations = correlations[\"sat_score\"]\n",
    "print(correlations)"
   ]
  },
  {
   "cell_type": "markdown",
   "metadata": {},
   "source": [
    "## Plotting survey correlations"
   ]
  },
  {
   "cell_type": "code",
   "execution_count": 36,
   "metadata": {},
   "outputs": [],
   "source": [
    "# Remove DBN since it's a unique identifier, not a useful numerical value for correlation.\n",
    "survey_fields.remove(\"DBN\")"
   ]
  },
  {
   "cell_type": "code",
   "execution_count": 37,
   "metadata": {},
   "outputs": [
    {
     "data": {
      "text/html": [
       "<div>\n",
       "<style scoped>\n",
       "    .dataframe tbody tr th:only-of-type {\n",
       "        vertical-align: middle;\n",
       "    }\n",
       "\n",
       "    .dataframe tbody tr th {\n",
       "        vertical-align: top;\n",
       "    }\n",
       "\n",
       "    .dataframe thead th {\n",
       "        text-align: right;\n",
       "    }\n",
       "</style>\n",
       "<table border=\"1\" class=\"dataframe\">\n",
       "  <thead>\n",
       "    <tr style=\"text-align: right;\">\n",
       "      <th></th>\n",
       "      <th>DBN</th>\n",
       "      <th>SCHOOL NAME</th>\n",
       "      <th>Num of SAT Test Takers</th>\n",
       "      <th>SAT Critical Reading Avg. Score</th>\n",
       "      <th>SAT Math Avg. Score</th>\n",
       "      <th>SAT Writing Avg. Score</th>\n",
       "      <th>sat_score</th>\n",
       "      <th>SchoolName</th>\n",
       "      <th>AP Test Takers</th>\n",
       "      <th>Total Exams Taken</th>\n",
       "      <th>...</th>\n",
       "      <th>priority05</th>\n",
       "      <th>priority06</th>\n",
       "      <th>priority07</th>\n",
       "      <th>priority08</th>\n",
       "      <th>priority09</th>\n",
       "      <th>priority10</th>\n",
       "      <th>Location 1</th>\n",
       "      <th>lat</th>\n",
       "      <th>lon</th>\n",
       "      <th>school_dist</th>\n",
       "    </tr>\n",
       "  </thead>\n",
       "  <tbody>\n",
       "    <tr>\n",
       "      <th>0</th>\n",
       "      <td>01M292</td>\n",
       "      <td>HENRY STREET SCHOOL FOR INTERNATIONAL STUDIES</td>\n",
       "      <td>29</td>\n",
       "      <td>355.0</td>\n",
       "      <td>404.0</td>\n",
       "      <td>363.0</td>\n",
       "      <td>1122.0</td>\n",
       "      <td>0</td>\n",
       "      <td>129.028846</td>\n",
       "      <td>197.038462</td>\n",
       "      <td>...</td>\n",
       "      <td>Then to New York City residents</td>\n",
       "      <td>0</td>\n",
       "      <td>0</td>\n",
       "      <td>0.0</td>\n",
       "      <td>0.0</td>\n",
       "      <td>0.0</td>\n",
       "      <td>220 Henry Street\\nNew York, NY 10002\\n(40.7137...</td>\n",
       "      <td>40.713764</td>\n",
       "      <td>-73.985260</td>\n",
       "      <td>01</td>\n",
       "    </tr>\n",
       "    <tr>\n",
       "      <th>1</th>\n",
       "      <td>01M448</td>\n",
       "      <td>UNIVERSITY NEIGHBORHOOD HIGH SCHOOL</td>\n",
       "      <td>91</td>\n",
       "      <td>383.0</td>\n",
       "      <td>423.0</td>\n",
       "      <td>366.0</td>\n",
       "      <td>1172.0</td>\n",
       "      <td>UNIVERSITY NEIGHBORHOOD H.S.</td>\n",
       "      <td>39.000000</td>\n",
       "      <td>49.000000</td>\n",
       "      <td>...</td>\n",
       "      <td>0</td>\n",
       "      <td>0</td>\n",
       "      <td>0</td>\n",
       "      <td>0.0</td>\n",
       "      <td>0.0</td>\n",
       "      <td>0.0</td>\n",
       "      <td>200 Monroe Street\\nNew York, NY 10002\\n(40.712...</td>\n",
       "      <td>40.712332</td>\n",
       "      <td>-73.984797</td>\n",
       "      <td>01</td>\n",
       "    </tr>\n",
       "    <tr>\n",
       "      <th>2</th>\n",
       "      <td>01M450</td>\n",
       "      <td>EAST SIDE COMMUNITY SCHOOL</td>\n",
       "      <td>70</td>\n",
       "      <td>377.0</td>\n",
       "      <td>402.0</td>\n",
       "      <td>370.0</td>\n",
       "      <td>1149.0</td>\n",
       "      <td>EAST SIDE COMMUNITY HS</td>\n",
       "      <td>19.000000</td>\n",
       "      <td>21.000000</td>\n",
       "      <td>...</td>\n",
       "      <td>0</td>\n",
       "      <td>0</td>\n",
       "      <td>0</td>\n",
       "      <td>0.0</td>\n",
       "      <td>0.0</td>\n",
       "      <td>0.0</td>\n",
       "      <td>420 East 12 Street\\nNew York, NY 10009\\n(40.72...</td>\n",
       "      <td>40.729783</td>\n",
       "      <td>-73.983041</td>\n",
       "      <td>01</td>\n",
       "    </tr>\n",
       "    <tr>\n",
       "      <th>3</th>\n",
       "      <td>01M509</td>\n",
       "      <td>MARTA VALLE HIGH SCHOOL</td>\n",
       "      <td>44</td>\n",
       "      <td>390.0</td>\n",
       "      <td>433.0</td>\n",
       "      <td>384.0</td>\n",
       "      <td>1207.0</td>\n",
       "      <td>0</td>\n",
       "      <td>129.028846</td>\n",
       "      <td>197.038462</td>\n",
       "      <td>...</td>\n",
       "      <td>0</td>\n",
       "      <td>0</td>\n",
       "      <td>0</td>\n",
       "      <td>0.0</td>\n",
       "      <td>0.0</td>\n",
       "      <td>0.0</td>\n",
       "      <td>145 Stanton Street\\nNew York, NY 10002\\n(40.72...</td>\n",
       "      <td>40.720569</td>\n",
       "      <td>-73.985673</td>\n",
       "      <td>01</td>\n",
       "    </tr>\n",
       "    <tr>\n",
       "      <th>4</th>\n",
       "      <td>01M539</td>\n",
       "      <td>NEW EXPLORATIONS INTO SCIENCE, TECHNOLOGY AND ...</td>\n",
       "      <td>159</td>\n",
       "      <td>522.0</td>\n",
       "      <td>574.0</td>\n",
       "      <td>525.0</td>\n",
       "      <td>1621.0</td>\n",
       "      <td>NEW EXPLORATIONS SCI,TECH,MATH</td>\n",
       "      <td>255.000000</td>\n",
       "      <td>377.000000</td>\n",
       "      <td>...</td>\n",
       "      <td>0</td>\n",
       "      <td>0</td>\n",
       "      <td>0</td>\n",
       "      <td>0.0</td>\n",
       "      <td>0.0</td>\n",
       "      <td>0.0</td>\n",
       "      <td>111 Columbia Street\\nNew York, NY 10002\\n(40.7...</td>\n",
       "      <td>40.718725</td>\n",
       "      <td>-73.979426</td>\n",
       "      <td>01</td>\n",
       "    </tr>\n",
       "  </tbody>\n",
       "</table>\n",
       "<p>5 rows × 160 columns</p>\n",
       "</div>"
      ],
      "text/plain": [
       "      DBN                                        SCHOOL NAME  \\\n",
       "0  01M292      HENRY STREET SCHOOL FOR INTERNATIONAL STUDIES   \n",
       "1  01M448                UNIVERSITY NEIGHBORHOOD HIGH SCHOOL   \n",
       "2  01M450                         EAST SIDE COMMUNITY SCHOOL   \n",
       "3  01M509                            MARTA VALLE HIGH SCHOOL   \n",
       "4  01M539  NEW EXPLORATIONS INTO SCIENCE, TECHNOLOGY AND ...   \n",
       "\n",
       "  Num of SAT Test Takers  SAT Critical Reading Avg. Score  \\\n",
       "0                     29                            355.0   \n",
       "1                     91                            383.0   \n",
       "2                     70                            377.0   \n",
       "3                     44                            390.0   \n",
       "4                    159                            522.0   \n",
       "\n",
       "   SAT Math Avg. Score  SAT Writing Avg. Score  sat_score  \\\n",
       "0                404.0                   363.0     1122.0   \n",
       "1                423.0                   366.0     1172.0   \n",
       "2                402.0                   370.0     1149.0   \n",
       "3                433.0                   384.0     1207.0   \n",
       "4                574.0                   525.0     1621.0   \n",
       "\n",
       "                       SchoolName  AP Test Takers   Total Exams Taken  ...  \\\n",
       "0                               0       129.028846         197.038462  ...   \n",
       "1    UNIVERSITY NEIGHBORHOOD H.S.        39.000000          49.000000  ...   \n",
       "2          EAST SIDE COMMUNITY HS        19.000000          21.000000  ...   \n",
       "3                               0       129.028846         197.038462  ...   \n",
       "4  NEW EXPLORATIONS SCI,TECH,MATH       255.000000         377.000000  ...   \n",
       "\n",
       "                        priority05 priority06 priority07 priority08  \\\n",
       "0  Then to New York City residents          0          0        0.0   \n",
       "1                                0          0          0        0.0   \n",
       "2                                0          0          0        0.0   \n",
       "3                                0          0          0        0.0   \n",
       "4                                0          0          0        0.0   \n",
       "\n",
       "   priority09 priority10                                         Location 1  \\\n",
       "0         0.0        0.0  220 Henry Street\\nNew York, NY 10002\\n(40.7137...   \n",
       "1         0.0        0.0  200 Monroe Street\\nNew York, NY 10002\\n(40.712...   \n",
       "2         0.0        0.0  420 East 12 Street\\nNew York, NY 10009\\n(40.72...   \n",
       "3         0.0        0.0  145 Stanton Street\\nNew York, NY 10002\\n(40.72...   \n",
       "4         0.0        0.0  111 Columbia Street\\nNew York, NY 10002\\n(40.7...   \n",
       "\n",
       "         lat        lon school_dist  \n",
       "0  40.713764 -73.985260          01  \n",
       "1  40.712332 -73.984797          01  \n",
       "2  40.729783 -73.983041          01  \n",
       "3  40.720569 -73.985673          01  \n",
       "4  40.718725 -73.979426          01  \n",
       "\n",
       "[5 rows x 160 columns]"
      ]
     },
     "execution_count": 37,
     "metadata": {},
     "output_type": "execute_result"
    }
   ],
   "source": [
    "combined.head()"
   ]
  },
  {
   "cell_type": "code",
   "execution_count": 38,
   "metadata": {},
   "outputs": [
    {
     "data": {
      "text/plain": [
       "<matplotlib.axes._subplots.AxesSubplot at 0x7f84e2b41070>"
      ]
     },
     "execution_count": 38,
     "metadata": {},
     "output_type": "execute_result"
    },
    {
     "data": {
      "image/png": "[encoded data removed]",
      "text/plain": [
       "<Figure size 600x400 with 1 Axes>"
      ]
     },
     "metadata": {},
     "output_type": "display_data"
    }
   ],
   "source": [
    "combined.corr()[\"sat_score\"][survey_fields].plot.bar()"
   ]
  },
  {
   "cell_type": "markdown",
   "metadata": {},
   "source": [
    "The chart depicts the N_s(Number of student respondents), the N_t, and the, N_p all having higher positive correlation with the sat scores. the saf_t_11and saf_s_11, which measure how teachers and students perceive safety at the school. \n",
    "I will be using a scatter plot to view the correlation between `saf_s_11 and` `sat_score`."
   ]
  },
  {
   "cell_type": "code",
   "execution_count": 39,
   "metadata": {},
   "outputs": [],
   "source": [
    "sat_saf_corr = combined['sat_score'].corr(combined['saf_s_11'])"
   ]
  },
  {
   "cell_type": "code",
   "execution_count": 40,
   "metadata": {},
   "outputs": [
    {
     "data": {
      "text/plain": [
       "<matplotlib.collections.PathCollection at 0x7f84e2b69700>"
      ]
     },
     "execution_count": 40,
     "metadata": {},
     "output_type": "execute_result"
    },
    {
     "data": {
      "image/png": "[encoded data removed]",
      "text/plain": [
       "<Figure size 600x400 with 1 Axes>"
      ]
     },
     "metadata": {},
     "output_type": "display_data"
    }
   ],
   "source": [
    "plt.scatter(combined['sat_score'], combined['saf_s_11'])"
   ]
  },
  {
   "cell_type": "markdown",
   "metadata": {},
   "source": [
    "It looks like the correlation between the safety score and the sat score is to be expected. The lower the safety score, the lower the sat score. It makes sense that students weren't able to learn in an unstable, unsafe environment. "
   ]
  },
  {
   "cell_type": "code",
   "execution_count": 41,
   "metadata": {},
   "outputs": [
    {
     "data": {
      "image/png": "[encoded data removed]",
      "text/plain": [
       "<Figure size 600x400 with 1 Axes>"
      ]
     },
     "metadata": {},
     "output_type": "display_data"
    }
   ],
   "source": [
    "racial_background = ['white_per',\n",
    "'asian_per',\n",
    "'black_per',\n",
    "'hispanic_per']\n",
    "\n",
    "combined.corr()['sat_score'][racial_background].plot.bar()\n",
    "plt.show()"
   ]
  },
  {
   "cell_type": "markdown",
   "metadata": {},
   "source": [
    "The bar chart depicts the intersectional inequality of sat scores/education and racial background. Things such as income inequality can also play a big role in sat scores/education. "
   ]
  },
  {
   "attachments": {
    "image.png": {
     "image/png": "[encoded data removed]"
    }
   },
   "cell_type": "markdown",
   "metadata": {},
   "source": [
    "![image.png](attachment:image.png)"
   ]
  },
  {
   "cell_type": "code",
   "execution_count": 42,
   "metadata": {},
   "outputs": [
    {
     "data": {
      "text/plain": [
       "44             MANHATTAN BRIDGES HIGH SCHOOL\n",
       "82                                         0\n",
       "89     GREGORIO LUPERON HIGH SCHOOL FOR SCIE\n",
       "125                                        0\n",
       "141    INTERNATIONAL SCHOOL FOR LIBERAL ARTS\n",
       "176                                        0\n",
       "253                MULTICULTURAL HIGH SCHOOL\n",
       "286    PAN AMERICAN INTERNATIONAL HIGH SCHOO\n",
       "Name: School Name, dtype: object"
      ]
     },
     "execution_count": 42,
     "metadata": {},
     "output_type": "execute_result"
    }
   ],
   "source": [
    "hispanic_per_over_95 = combined[combined['hispanic_per'] >= 95]\n",
    "hispanic_per_over_95['School Name'].head(10)"
   ]
  },
  {
   "cell_type": "markdown",
   "metadata": {},
   "source": [
    "* Many of the schools don't have a high english speaking percentage compared to other schools. \n",
    "* Many of the schools teach students both in English and Spanish. \n",
    "* Most of the schools have a substantial amount of low income students. \n",
    "\n",
    "- [REFERENCE#1](https://insideschools.org/school/02M542)\n",
    "- [REFERENCE#2](https://insideschools.org/school/06M552)\n",
    "- [REFERENCE#3](https://insideschools.org/school/10X342)\n",
    "\n"
   ]
  },
  {
   "cell_type": "code",
   "execution_count": 43,
   "metadata": {},
   "outputs": [
    {
     "data": {
      "text/plain": [
       "37                    STUYVESANT HIGH SCHOOL\n",
       "151             BRONX HIGH SCHOOL OF SCIENCE\n",
       "187           BROOKLYN TECHNICAL HIGH SCHOOL\n",
       "327    QUEENS HIGH SCHOOL FOR THE SCIENCES A\n",
       "356      STATEN ISLAND TECHNICAL HIGH SCHOOL\n",
       "Name: School Name, dtype: object"
      ]
     },
     "execution_count": 43,
     "metadata": {},
     "output_type": "execute_result"
    }
   ],
   "source": [
    "hispanic_per_lower_10 = combined[(combined['hispanic_per'] <= 10) & (combined['sat_score'] > 1800)]\n",
    "hispanic_per_lower_10['School Name'].head(10)"
   ]
  },
  {
   "cell_type": "markdown",
   "metadata": {},
   "source": [
    "After doing further research of the statistics of these school names, I found that:\n",
    " * Most of them don't have little to no multilingual students. \n",
    " * All of the schools are below average in low income. \n",
    " * All of these schools come back as majority Asian. \n",
    " * All of these schools come back as school of the sciences. \n",
    " * All of these schools have a very low black population as well. \n",
    "\n",
    "\n",
    "- [REFERENCE#1](https://insideschools.org/school/02M475)\n",
    "- [REFERENCE#2](https://insideschools.org/school/10X445)\n",
    "- [REFERENCE#3](https://insideschools.org/school/13K430)\n",
    "- [REFERENCE#4](https://insideschools.org/school/28Q687)\n",
    "- [REFERENCE#5](https://insideschools.org/school/31R605)\n",
    "\n",
    "The chart below is just is of REFERENCE#1 and it depicts the status quo for all of the references above."
   ]
  },
  {
   "attachments": {
    "image-2.png": {
     "image/png": "[encoded data removed]"
    }
   },
   "cell_type": "markdown",
   "metadata": {},
   "source": [
    "![image-2.png](attachment:image-2.png)"
   ]
  },
  {
   "cell_type": "markdown",
   "metadata": {},
   "source": [
    "## Investigating gender differences in SAT scores"
   ]
  },
  {
   "cell_type": "code",
   "execution_count": 44,
   "metadata": {},
   "outputs": [
    {
     "data": {
      "image/png": "[encoded data removed]",
      "text/plain": [
       "<Figure size 600x400 with 1 Axes>"
      ]
     },
     "metadata": {},
     "output_type": "display_data"
    }
   ],
   "source": [
    "gender_perc = ['male_per', 'female_per']\n",
    "combined.corr()['sat_score'][gender_perc].plot.bar()\n",
    "plt.show()"
   ]
  },
  {
   "cell_type": "markdown",
   "metadata": {},
   "source": [
    "The bar plot illustrates that females have a positive correlation to SAT score and the males have a negative correlation to SAT score. The r value for the genders maxes out around .1 which is low. \n",
    "\n",
    "While this shows that theres  some correlation between gender and SAT scores, the correlation is not strong enough to be relevant.  \n",
    "\n",
    "Next I'll investigate schools that have a high female percentage and SAT score. "
   ]
  },
  {
   "cell_type": "code",
   "execution_count": 45,
   "metadata": {},
   "outputs": [
    {
     "data": {
      "text/plain": [
       "<matplotlib.axes._subplots.AxesSubplot at 0x7f84dff33f40>"
      ]
     },
     "execution_count": 45,
     "metadata": {},
     "output_type": "execute_result"
    },
    {
     "data": {
      "image/png": "[encoded data removed]",
      "text/plain": [
       "<Figure size 600x400 with 1 Axes>"
      ]
     },
     "metadata": {},
     "output_type": "display_data"
    }
   ],
   "source": [
    "combined.plot.scatter(x='female_per', y='sat_score')"
   ]
  },
  {
   "cell_type": "markdown",
   "metadata": {},
   "source": [
    "We see the first high SAT score when the female percentage goes above 40%. The high SAT scores continue up until the around 80%. This makes sense because there are only a few schools that have a female percentage of 80% or higher. "
   ]
  },
  {
   "cell_type": "code",
   "execution_count": 46,
   "metadata": {},
   "outputs": [
    {
     "data": {
      "text/plain": [
       "5            BARD HIGH SCHOOL EARLY COLLEGE\n",
       "26            ELEANOR ROOSEVELT HIGH SCHOOL\n",
       "60                       BEACON HIGH SCHOOL\n",
       "61     FIORELLO H. LAGUARDIA HIGH SCHOOL OF\n",
       "302             TOWNSEND HARRIS HIGH SCHOOL\n",
       "Name: School Name, dtype: object"
      ]
     },
     "execution_count": 46,
     "metadata": {},
     "output_type": "execute_result"
    }
   ],
   "source": [
    "female_perc_bool = combined[(combined['female_per'] > 60) & (combined['sat_score'] > 1700)]\n",
    "female_perc_bool['School Name']"
   ]
  },
  {
   "cell_type": "markdown",
   "metadata": {},
   "source": [
    "After doing research on the schools illustrated above I came across a few intersting patterns:\n",
    "* Most of the school's students are not low income.\n",
    "* Most of schools have a larger white population compared to the average amount city wide.\n",
    "* Most of the schools are located in the Manhattan. \n",
    "* Most of the schools have more girl sports than boy sports.\n",
    "* Most of the schools do not have football as a sport. "
   ]
  },
  {
   "cell_type": "code",
   "execution_count": 47,
   "metadata": {},
   "outputs": [
    {
     "data": {
      "text/plain": [
       "0    0.305756\n",
       "1    0.098985\n",
       "2    0.031773\n",
       "3    0.351577\n",
       "4    0.158091\n",
       "Name: ap_per, dtype: float64"
      ]
     },
     "execution_count": 47,
     "metadata": {},
     "output_type": "execute_result"
    }
   ],
   "source": [
    "combined['ap_per'] = combined['AP Test Takers '] / combined['total_enrollment']\n",
    "combined['ap_per'].head()"
   ]
  },
  {
   "cell_type": "code",
   "execution_count": 48,
   "metadata": {},
   "outputs": [
    {
     "data": {
      "text/plain": [
       "<matplotlib.axes._subplots.AxesSubplot at 0x7f84dfc68f40>"
      ]
     },
     "execution_count": 48,
     "metadata": {},
     "output_type": "execute_result"
    },
    {
     "data": {
      "image/png": "[encoded data removed]",
      "text/plain": [
       "<Figure size 600x400 with 1 Axes>"
      ]
     },
     "metadata": {},
     "output_type": "display_data"
    }
   ],
   "source": [
    "combined.plot.scatter('ap_per', 'sat_score')"
   ]
  },
  {
   "cell_type": "markdown",
   "metadata": {},
   "source": [
    "I calculated the percentage of students in each school that took an AP exam by dividing the AP Test Takers column by the total_enrollment column. The scatter plot shows that there may be a correlation between them. "
   ]
  }
 ],
 "metadata": {
  "kernelspec": {
   "display_name": "Python 3",
   "language": "python",
   "name": "python3"
  },
  "language_info": {
   "codemirror_mode": {
    "name": "ipython",
    "version": 3
   },
   "file_extension": ".py",
   "mimetype": "text/x-python",
   "name": "python",
   "nbconvert_exporter": "python",
   "pygments_lexer": "ipython3",
   "version": "3.8.2"
  }
 },
 "nbformat": 4,
 "nbformat_minor": 2
}
